{
 "cells": [
  {
   "cell_type": "markdown",
   "id": "536ad468",
   "metadata": {},
   "source": [
    "# Supervised Learning Program"
   ]
  },
  {
   "cell_type": "code",
   "execution_count": 2,
   "id": "2d34ac85",
   "metadata": {},
   "outputs": [],
   "source": [
    "import pandas as pd\n",
    "import numpy as np"
   ]
  },
  {
   "cell_type": "code",
   "execution_count": 92,
   "id": "bc8c1176",
   "metadata": {},
   "outputs": [],
   "source": [
    "df=pd.read_csv(\"petrol_consumption.csv\")"
   ]
  },
  {
   "cell_type": "code",
   "execution_count": 93,
   "id": "5cd3b7ee",
   "metadata": {},
   "outputs": [
    {
     "data": {
      "text/plain": [
       "<bound method NDFrame.describe of     Petrol_tax  Average_income  Paved_Highways  Population_Driver_licence(%)  \\\n",
       "0         9.00            3571            1976                         0.525   \n",
       "1         9.00            4092            1250                         0.572   \n",
       "2         9.00            3865            1586                         0.580   \n",
       "3         7.50            4870            2351                         0.529   \n",
       "4         8.00            4399             431                         0.544   \n",
       "5        10.00            5342            1333                         0.571   \n",
       "6         8.00            5319           11868                         0.451   \n",
       "7         8.00            5126            2138                         0.553   \n",
       "8         8.00            4447            8577                         0.529   \n",
       "9         7.00            4512            8507                         0.552   \n",
       "10        8.00            4391            5939                         0.530   \n",
       "11        7.50            5126           14186                         0.525   \n",
       "12        7.00            4817            6930                         0.574   \n",
       "13        7.00            4207            6580                         0.545   \n",
       "14        7.00            4332            8159                         0.608   \n",
       "15        7.00            4318           10340                         0.586   \n",
       "16        7.00            4206            8508                         0.572   \n",
       "17        7.00            3718            4725                         0.540   \n",
       "18        7.00            4716            5915                         0.724   \n",
       "19        8.50            4341            6010                         0.677   \n",
       "20        7.00            4593            7834                         0.663   \n",
       "21        8.00            4983             602                         0.602   \n",
       "22        9.00            4897            2449                         0.511   \n",
       "23        9.00            4258            4686                         0.517   \n",
       "24        8.50            4574            2619                         0.551   \n",
       "25        9.00            3721            4746                         0.544   \n",
       "26        8.00            3448            5399                         0.548   \n",
       "27        7.50            3846            9061                         0.579   \n",
       "28        8.00            4188            5975                         0.563   \n",
       "29        9.00            3601            4650                         0.493   \n",
       "30        7.00            3640            6905                         0.518   \n",
       "31        7.00            3333            6594                         0.513   \n",
       "32        8.00            3063            6524                         0.578   \n",
       "33        7.50            3357            4121                         0.547   \n",
       "34        8.00            3528            3495                         0.487   \n",
       "35        6.58            3802            7834                         0.629   \n",
       "36        5.00            4045           17782                         0.566   \n",
       "37        7.00            3897            6385                         0.586   \n",
       "38        8.50            3635            3274                         0.663   \n",
       "39        7.00            4345            3905                         0.672   \n",
       "40        7.00            4449            4639                         0.626   \n",
       "41        7.00            3656            3985                         0.563   \n",
       "42        7.00            4300            3635                         0.603   \n",
       "43        7.00            3745            2611                         0.508   \n",
       "44        6.00            5215            2302                         0.672   \n",
       "45        9.00            4476            3942                         0.571   \n",
       "46        7.00            4296            4083                         0.623   \n",
       "47        7.00            5002            9794                         0.593   \n",
       "\n",
       "    Petrol_Consumption  \n",
       "0                  541  \n",
       "1                  524  \n",
       "2                  561  \n",
       "3                  414  \n",
       "4                  410  \n",
       "5                  457  \n",
       "6                  344  \n",
       "7                  467  \n",
       "8                  464  \n",
       "9                  498  \n",
       "10                 580  \n",
       "11                 471  \n",
       "12                 525  \n",
       "13                 508  \n",
       "14                 566  \n",
       "15                 635  \n",
       "16                 603  \n",
       "17                 714  \n",
       "18                 865  \n",
       "19                 640  \n",
       "20                 649  \n",
       "21                 540  \n",
       "22                 464  \n",
       "23                 547  \n",
       "24                 460  \n",
       "25                 566  \n",
       "26                 577  \n",
       "27                 631  \n",
       "28                 574  \n",
       "29                 534  \n",
       "30                 571  \n",
       "31                 554  \n",
       "32                 577  \n",
       "33                 628  \n",
       "34                 487  \n",
       "35                 644  \n",
       "36                 640  \n",
       "37                 704  \n",
       "38                 648  \n",
       "39                 968  \n",
       "40                 587  \n",
       "41                 699  \n",
       "42                 632  \n",
       "43                 591  \n",
       "44                 782  \n",
       "45                 510  \n",
       "46                 610  \n",
       "47                 524  >"
      ]
     },
     "execution_count": 93,
     "metadata": {},
     "output_type": "execute_result"
    }
   ],
   "source": [
    "df.describe"
   ]
  },
  {
   "cell_type": "code",
   "execution_count": 94,
   "id": "79c8e3c6",
   "metadata": {},
   "outputs": [
    {
     "name": "stdout",
     "output_type": "stream",
     "text": [
      "<class 'pandas.core.frame.DataFrame'>\n",
      "RangeIndex: 48 entries, 0 to 47\n",
      "Data columns (total 5 columns):\n",
      " #   Column                        Non-Null Count  Dtype  \n",
      "---  ------                        --------------  -----  \n",
      " 0   Petrol_tax                    48 non-null     float64\n",
      " 1   Average_income                48 non-null     int64  \n",
      " 2   Paved_Highways                48 non-null     int64  \n",
      " 3   Population_Driver_licence(%)  48 non-null     float64\n",
      " 4   Petrol_Consumption            48 non-null     int64  \n",
      "dtypes: float64(2), int64(3)\n",
      "memory usage: 2.0 KB\n"
     ]
    }
   ],
   "source": [
    "df.info()"
   ]
  },
  {
   "cell_type": "code",
   "execution_count": 95,
   "id": "8bf2d974",
   "metadata": {},
   "outputs": [
    {
     "data": {
      "text/plain": [
       "(48, 5)"
      ]
     },
     "execution_count": 95,
     "metadata": {},
     "output_type": "execute_result"
    }
   ],
   "source": [
    "df.shape"
   ]
  },
  {
   "cell_type": "code",
   "execution_count": 96,
   "id": "dec9f708",
   "metadata": {},
   "outputs": [
    {
     "data": {
      "text/plain": [
       "Petrol_tax                      0\n",
       "Average_income                  0\n",
       "Paved_Highways                  0\n",
       "Population_Driver_licence(%)    0\n",
       "Petrol_Consumption              0\n",
       "dtype: int64"
      ]
     },
     "execution_count": 96,
     "metadata": {},
     "output_type": "execute_result"
    }
   ],
   "source": [
    "df.isnull().sum()"
   ]
  },
  {
   "cell_type": "code",
   "execution_count": 97,
   "id": "e2724d32",
   "metadata": {},
   "outputs": [
    {
     "name": "stdout",
     "output_type": "stream",
     "text": [
      " columns name : 0      9.00\n",
      "1      9.00\n",
      "2      9.00\n",
      "3      7.50\n",
      "4      8.00\n",
      "5     10.00\n",
      "6      8.00\n",
      "7      8.00\n",
      "8      8.00\n",
      "9      7.00\n",
      "10     8.00\n",
      "11     7.50\n",
      "12     7.00\n",
      "13     7.00\n",
      "14     7.00\n",
      "15     7.00\n",
      "16     7.00\n",
      "17     7.00\n",
      "18     7.00\n",
      "19     8.50\n",
      "20     7.00\n",
      "21     8.00\n",
      "22     9.00\n",
      "23     9.00\n",
      "24     8.50\n",
      "25     9.00\n",
      "26     8.00\n",
      "27     7.50\n",
      "28     8.00\n",
      "29     9.00\n",
      "30     7.00\n",
      "31     7.00\n",
      "32     8.00\n",
      "33     7.50\n",
      "34     8.00\n",
      "35     6.58\n",
      "36     5.00\n",
      "37     7.00\n",
      "38     8.50\n",
      "39     7.00\n",
      "40     7.00\n",
      "41     7.00\n",
      "42     7.00\n",
      "43     7.00\n",
      "44     6.00\n",
      "45     9.00\n",
      "46     7.00\n",
      "47     7.00\n",
      "Name: Petrol_tax, dtype: float64,unique values : 7.00     19\n",
      "8.00     10\n",
      "9.00      8\n",
      "7.50      4\n",
      "8.50      3\n",
      "5.00      1\n",
      "6.58      1\n",
      "10.00     1\n",
      "6.00      1\n",
      "Name: Petrol_tax, dtype: int64\n",
      " columns name : 0     3571\n",
      "1     4092\n",
      "2     3865\n",
      "3     4870\n",
      "4     4399\n",
      "5     5342\n",
      "6     5319\n",
      "7     5126\n",
      "8     4447\n",
      "9     4512\n",
      "10    4391\n",
      "11    5126\n",
      "12    4817\n",
      "13    4207\n",
      "14    4332\n",
      "15    4318\n",
      "16    4206\n",
      "17    3718\n",
      "18    4716\n",
      "19    4341\n",
      "20    4593\n",
      "21    4983\n",
      "22    4897\n",
      "23    4258\n",
      "24    4574\n",
      "25    3721\n",
      "26    3448\n",
      "27    3846\n",
      "28    4188\n",
      "29    3601\n",
      "30    3640\n",
      "31    3333\n",
      "32    3063\n",
      "33    3357\n",
      "34    3528\n",
      "35    3802\n",
      "36    4045\n",
      "37    3897\n",
      "38    3635\n",
      "39    4345\n",
      "40    4449\n",
      "41    3656\n",
      "42    4300\n",
      "43    3745\n",
      "44    5215\n",
      "45    4476\n",
      "46    4296\n",
      "47    5002\n",
      "Name: Average_income, dtype: int64,unique values : 5126    2\n",
      "4318    1\n",
      "3601    1\n",
      "3745    1\n",
      "4476    1\n",
      "4391    1\n",
      "3635    1\n",
      "3640    1\n",
      "4332    1\n",
      "4206    1\n",
      "4399    1\n",
      "4593    1\n",
      "4897    1\n",
      "3063    1\n",
      "3571    1\n",
      "5215    1\n",
      "4341    1\n",
      "4983    1\n",
      "3448    1\n",
      "3897    1\n",
      "4092    1\n",
      "4716    1\n",
      "4258    1\n",
      "4512    1\n",
      "3846    1\n",
      "3718    1\n",
      "4574    1\n",
      "3333    1\n",
      "4870    1\n",
      "5319    1\n",
      "3528    1\n",
      "3721    1\n",
      "5002    1\n",
      "4300    1\n",
      "4045    1\n",
      "4817    1\n",
      "4447    1\n",
      "4345    1\n",
      "4296    1\n",
      "3656    1\n",
      "3865    1\n",
      "3802    1\n",
      "4449    1\n",
      "4188    1\n",
      "3357    1\n",
      "5342    1\n",
      "4207    1\n",
      "Name: Average_income, dtype: int64\n",
      " columns name : 0      1976\n",
      "1      1250\n",
      "2      1586\n",
      "3      2351\n",
      "4       431\n",
      "5      1333\n",
      "6     11868\n",
      "7      2138\n",
      "8      8577\n",
      "9      8507\n",
      "10     5939\n",
      "11    14186\n",
      "12     6930\n",
      "13     6580\n",
      "14     8159\n",
      "15    10340\n",
      "16     8508\n",
      "17     4725\n",
      "18     5915\n",
      "19     6010\n",
      "20     7834\n",
      "21      602\n",
      "22     2449\n",
      "23     4686\n",
      "24     2619\n",
      "25     4746\n",
      "26     5399\n",
      "27     9061\n",
      "28     5975\n",
      "29     4650\n",
      "30     6905\n",
      "31     6594\n",
      "32     6524\n",
      "33     4121\n",
      "34     3495\n",
      "35     7834\n",
      "36    17782\n",
      "37     6385\n",
      "38     3274\n",
      "39     3905\n",
      "40     4639\n",
      "41     3985\n",
      "42     3635\n",
      "43     2611\n",
      "44     2302\n",
      "45     3942\n",
      "46     4083\n",
      "47     9794\n",
      "Name: Paved_Highways, dtype: int64,unique values : 7834     2\n",
      "4639     1\n",
      "6580     1\n",
      "2619     1\n",
      "14186    1\n",
      "17782    1\n",
      "602      1\n",
      "2351     1\n",
      "6385     1\n",
      "1586     1\n",
      "5939     1\n",
      "1333     1\n",
      "3942     1\n",
      "6524     1\n",
      "3905     1\n",
      "1976     1\n",
      "6905     1\n",
      "6010     1\n",
      "8507     1\n",
      "8508     1\n",
      "4083     1\n",
      "2302     1\n",
      "4650     1\n",
      "9061     1\n",
      "8577     1\n",
      "3985     1\n",
      "6594     1\n",
      "4725     1\n",
      "3274     1\n",
      "4746     1\n",
      "3495     1\n",
      "5975     1\n",
      "4686     1\n",
      "2449     1\n",
      "431      1\n",
      "2611     1\n",
      "10340    1\n",
      "5399     1\n",
      "6930     1\n",
      "4121     1\n",
      "2138     1\n",
      "5915     1\n",
      "11868    1\n",
      "3635     1\n",
      "8159     1\n",
      "1250     1\n",
      "9794     1\n",
      "Name: Paved_Highways, dtype: int64\n",
      " columns name : 0     0.525\n",
      "1     0.572\n",
      "2     0.580\n",
      "3     0.529\n",
      "4     0.544\n",
      "5     0.571\n",
      "6     0.451\n",
      "7     0.553\n",
      "8     0.529\n",
      "9     0.552\n",
      "10    0.530\n",
      "11    0.525\n",
      "12    0.574\n",
      "13    0.545\n",
      "14    0.608\n",
      "15    0.586\n",
      "16    0.572\n",
      "17    0.540\n",
      "18    0.724\n",
      "19    0.677\n",
      "20    0.663\n",
      "21    0.602\n",
      "22    0.511\n",
      "23    0.517\n",
      "24    0.551\n",
      "25    0.544\n",
      "26    0.548\n",
      "27    0.579\n",
      "28    0.563\n",
      "29    0.493\n",
      "30    0.518\n",
      "31    0.513\n",
      "32    0.578\n",
      "33    0.547\n",
      "34    0.487\n",
      "35    0.629\n",
      "36    0.566\n",
      "37    0.586\n",
      "38    0.663\n",
      "39    0.672\n",
      "40    0.626\n",
      "41    0.563\n",
      "42    0.603\n",
      "43    0.508\n",
      "44    0.672\n",
      "45    0.571\n",
      "46    0.623\n",
      "47    0.593\n",
      "Name: Population_Driver_licence(%), dtype: float64,unique values : 0.563    2\n",
      "0.529    2\n",
      "0.544    2\n",
      "0.586    2\n",
      "0.572    2\n",
      "0.571    2\n",
      "0.672    2\n",
      "0.525    2\n",
      "0.663    2\n",
      "0.545    1\n",
      "0.608    1\n",
      "0.603    1\n",
      "0.574    1\n",
      "0.580    1\n",
      "0.551    1\n",
      "0.518    1\n",
      "0.579    1\n",
      "0.724    1\n",
      "0.511    1\n",
      "0.566    1\n",
      "0.578    1\n",
      "0.553    1\n",
      "0.451    1\n",
      "0.513    1\n",
      "0.623    1\n",
      "0.677    1\n",
      "0.547    1\n",
      "0.552    1\n",
      "0.548    1\n",
      "0.517    1\n",
      "0.602    1\n",
      "0.530    1\n",
      "0.508    1\n",
      "0.487    1\n",
      "0.629    1\n",
      "0.540    1\n",
      "0.493    1\n",
      "0.593    1\n",
      "0.626    1\n",
      "Name: Population_Driver_licence(%), dtype: int64\n",
      " columns name : 0     541\n",
      "1     524\n",
      "2     561\n",
      "3     414\n",
      "4     410\n",
      "5     457\n",
      "6     344\n",
      "7     467\n",
      "8     464\n",
      "9     498\n",
      "10    580\n",
      "11    471\n",
      "12    525\n",
      "13    508\n",
      "14    566\n",
      "15    635\n",
      "16    603\n",
      "17    714\n",
      "18    865\n",
      "19    640\n",
      "20    649\n",
      "21    540\n",
      "22    464\n",
      "23    547\n",
      "24    460\n",
      "25    566\n",
      "26    577\n",
      "27    631\n",
      "28    574\n",
      "29    534\n",
      "30    571\n",
      "31    554\n",
      "32    577\n",
      "33    628\n",
      "34    487\n",
      "35    644\n",
      "36    640\n",
      "37    704\n",
      "38    648\n",
      "39    968\n",
      "40    587\n",
      "41    699\n",
      "42    632\n",
      "43    591\n",
      "44    782\n",
      "45    510\n",
      "46    610\n",
      "47    524\n",
      "Name: Petrol_Consumption, dtype: int64,unique values : 640    2\n",
      "577    2\n",
      "566    2\n",
      "524    2\n",
      "464    2\n",
      "704    1\n",
      "865    1\n",
      "571    1\n",
      "547    1\n",
      "487    1\n",
      "649    1\n",
      "644    1\n",
      "554    1\n",
      "561    1\n",
      "541    1\n",
      "498    1\n",
      "628    1\n",
      "631    1\n",
      "632    1\n",
      "635    1\n",
      "508    1\n",
      "574    1\n",
      "414    1\n",
      "603    1\n",
      "540    1\n",
      "782    1\n",
      "699    1\n",
      "580    1\n",
      "648    1\n",
      "457    1\n",
      "714    1\n",
      "587    1\n",
      "525    1\n",
      "591    1\n",
      "410    1\n",
      "467    1\n",
      "510    1\n",
      "968    1\n",
      "534    1\n",
      "471    1\n",
      "344    1\n",
      "610    1\n",
      "460    1\n",
      "Name: Petrol_Consumption, dtype: int64\n"
     ]
    }
   ],
   "source": [
    "for i in df.columns:\n",
    "    print(f\" columns name : {df[i]},unique values : { df[i].value_counts()}\")"
   ]
  },
  {
   "cell_type": "code",
   "execution_count": 98,
   "id": "a40a56a1",
   "metadata": {},
   "outputs": [
    {
     "data": {
      "text/html": [
       "<div>\n",
       "<style scoped>\n",
       "    .dataframe tbody tr th:only-of-type {\n",
       "        vertical-align: middle;\n",
       "    }\n",
       "\n",
       "    .dataframe tbody tr th {\n",
       "        vertical-align: top;\n",
       "    }\n",
       "\n",
       "    .dataframe thead th {\n",
       "        text-align: right;\n",
       "    }\n",
       "</style>\n",
       "<table border=\"1\" class=\"dataframe\">\n",
       "  <thead>\n",
       "    <tr style=\"text-align: right;\">\n",
       "      <th></th>\n",
       "      <th>Petrol_tax</th>\n",
       "      <th>Average_income</th>\n",
       "      <th>Paved_Highways</th>\n",
       "      <th>Population_Driver_licence(%)</th>\n",
       "      <th>Petrol_Consumption</th>\n",
       "    </tr>\n",
       "  </thead>\n",
       "  <tbody>\n",
       "    <tr>\n",
       "      <th>Petrol_tax</th>\n",
       "      <td>1.000000</td>\n",
       "      <td>0.012665</td>\n",
       "      <td>-0.522130</td>\n",
       "      <td>-0.288037</td>\n",
       "      <td>-0.451280</td>\n",
       "    </tr>\n",
       "    <tr>\n",
       "      <th>Average_income</th>\n",
       "      <td>0.012665</td>\n",
       "      <td>1.000000</td>\n",
       "      <td>0.050163</td>\n",
       "      <td>0.157070</td>\n",
       "      <td>-0.244862</td>\n",
       "    </tr>\n",
       "    <tr>\n",
       "      <th>Paved_Highways</th>\n",
       "      <td>-0.522130</td>\n",
       "      <td>0.050163</td>\n",
       "      <td>1.000000</td>\n",
       "      <td>-0.064129</td>\n",
       "      <td>0.019042</td>\n",
       "    </tr>\n",
       "    <tr>\n",
       "      <th>Population_Driver_licence(%)</th>\n",
       "      <td>-0.288037</td>\n",
       "      <td>0.157070</td>\n",
       "      <td>-0.064129</td>\n",
       "      <td>1.000000</td>\n",
       "      <td>0.698965</td>\n",
       "    </tr>\n",
       "    <tr>\n",
       "      <th>Petrol_Consumption</th>\n",
       "      <td>-0.451280</td>\n",
       "      <td>-0.244862</td>\n",
       "      <td>0.019042</td>\n",
       "      <td>0.698965</td>\n",
       "      <td>1.000000</td>\n",
       "    </tr>\n",
       "  </tbody>\n",
       "</table>\n",
       "</div>"
      ],
      "text/plain": [
       "                              Petrol_tax  Average_income  Paved_Highways  \\\n",
       "Petrol_tax                      1.000000        0.012665       -0.522130   \n",
       "Average_income                  0.012665        1.000000        0.050163   \n",
       "Paved_Highways                 -0.522130        0.050163        1.000000   \n",
       "Population_Driver_licence(%)   -0.288037        0.157070       -0.064129   \n",
       "Petrol_Consumption             -0.451280       -0.244862        0.019042   \n",
       "\n",
       "                              Population_Driver_licence(%)  Petrol_Consumption  \n",
       "Petrol_tax                                       -0.288037           -0.451280  \n",
       "Average_income                                    0.157070           -0.244862  \n",
       "Paved_Highways                                   -0.064129            0.019042  \n",
       "Population_Driver_licence(%)                      1.000000            0.698965  \n",
       "Petrol_Consumption                                0.698965            1.000000  "
      ]
     },
     "execution_count": 98,
     "metadata": {},
     "output_type": "execute_result"
    }
   ],
   "source": [
    "df.corr()"
   ]
  },
  {
   "cell_type": "code",
   "execution_count": 99,
   "id": "aaf8195d",
   "metadata": {},
   "outputs": [],
   "source": [
    "import matplotlib.pyplot as plt\n",
    "import seaborn as sns"
   ]
  },
  {
   "cell_type": "code",
   "execution_count": 100,
   "id": "b947f4b3",
   "metadata": {},
   "outputs": [
    {
     "data": {
      "text/plain": [
       "<AxesSubplot:>"
      ]
     },
     "execution_count": 100,
     "metadata": {},
     "output_type": "execute_result"
    },
    {
     "data": {
      "image/png": "[encoded data removed]",
      "text/plain": [
       "<Figure size 432x288 with 2 Axes>"
      ]
     },
     "metadata": {
      "needs_background": "light"
     },
     "output_type": "display_data"
    }
   ],
   "source": [
    "sns.heatmap(df.corr(),annot=True)"
   ]
  },
  {
   "cell_type": "code",
   "execution_count": 101,
   "id": "3f41d998",
   "metadata": {},
   "outputs": [],
   "source": [
    "x=df.iloc[:,:-1]"
   ]
  },
  {
   "cell_type": "code",
   "execution_count": 102,
   "id": "681c3d92",
   "metadata": {},
   "outputs": [
    {
     "data": {
      "text/html": [
       "<div>\n",
       "<style scoped>\n",
       "    .dataframe tbody tr th:only-of-type {\n",
       "        vertical-align: middle;\n",
       "    }\n",
       "\n",
       "    .dataframe tbody tr th {\n",
       "        vertical-align: top;\n",
       "    }\n",
       "\n",
       "    .dataframe thead th {\n",
       "        text-align: right;\n",
       "    }\n",
       "</style>\n",
       "<table border=\"1\" class=\"dataframe\">\n",
       "  <thead>\n",
       "    <tr style=\"text-align: right;\">\n",
       "      <th></th>\n",
       "      <th>Petrol_tax</th>\n",
       "      <th>Average_income</th>\n",
       "      <th>Paved_Highways</th>\n",
       "      <th>Population_Driver_licence(%)</th>\n",
       "    </tr>\n",
       "  </thead>\n",
       "  <tbody>\n",
       "    <tr>\n",
       "      <th>0</th>\n",
       "      <td>9.0</td>\n",
       "      <td>3571</td>\n",
       "      <td>1976</td>\n",
       "      <td>0.525</td>\n",
       "    </tr>\n",
       "    <tr>\n",
       "      <th>1</th>\n",
       "      <td>9.0</td>\n",
       "      <td>4092</td>\n",
       "      <td>1250</td>\n",
       "      <td>0.572</td>\n",
       "    </tr>\n",
       "  </tbody>\n",
       "</table>\n",
       "</div>"
      ],
      "text/plain": [
       "   Petrol_tax  Average_income  Paved_Highways  Population_Driver_licence(%)\n",
       "0         9.0            3571            1976                         0.525\n",
       "1         9.0            4092            1250                         0.572"
      ]
     },
     "execution_count": 102,
     "metadata": {},
     "output_type": "execute_result"
    }
   ],
   "source": [
    "x.head(2)"
   ]
  },
  {
   "cell_type": "code",
   "execution_count": 103,
   "id": "5cc10c29",
   "metadata": {},
   "outputs": [],
   "source": [
    "y=df.iloc[:,-1:]"
   ]
  },
  {
   "cell_type": "code",
   "execution_count": 104,
   "id": "c5461e6d",
   "metadata": {},
   "outputs": [
    {
     "data": {
      "text/html": [
       "<div>\n",
       "<style scoped>\n",
       "    .dataframe tbody tr th:only-of-type {\n",
       "        vertical-align: middle;\n",
       "    }\n",
       "\n",
       "    .dataframe tbody tr th {\n",
       "        vertical-align: top;\n",
       "    }\n",
       "\n",
       "    .dataframe thead th {\n",
       "        text-align: right;\n",
       "    }\n",
       "</style>\n",
       "<table border=\"1\" class=\"dataframe\">\n",
       "  <thead>\n",
       "    <tr style=\"text-align: right;\">\n",
       "      <th></th>\n",
       "      <th>Petrol_Consumption</th>\n",
       "    </tr>\n",
       "  </thead>\n",
       "  <tbody>\n",
       "    <tr>\n",
       "      <th>0</th>\n",
       "      <td>541</td>\n",
       "    </tr>\n",
       "    <tr>\n",
       "      <th>1</th>\n",
       "      <td>524</td>\n",
       "    </tr>\n",
       "  </tbody>\n",
       "</table>\n",
       "</div>"
      ],
      "text/plain": [
       "   Petrol_Consumption\n",
       "0                 541\n",
       "1                 524"
      ]
     },
     "execution_count": 104,
     "metadata": {},
     "output_type": "execute_result"
    }
   ],
   "source": [
    "y.head(2)"
   ]
  },
  {
   "cell_type": "code",
   "execution_count": 105,
   "id": "fc841715",
   "metadata": {},
   "outputs": [],
   "source": [
    "from sklearn.model_selection import train_test_split"
   ]
  },
  {
   "cell_type": "code",
   "execution_count": 106,
   "id": "15e7331b",
   "metadata": {},
   "outputs": [],
   "source": [
    "X_train,X_test,y_train,y_test=train_test_split(x,y,test_size=.3,random_state=0)"
   ]
  },
  {
   "cell_type": "code",
   "execution_count": 107,
   "id": "965ad1b1",
   "metadata": {},
   "outputs": [
    {
     "data": {
      "text/plain": [
       "(33, 4)"
      ]
     },
     "execution_count": 107,
     "metadata": {},
     "output_type": "execute_result"
    }
   ],
   "source": [
    "X_train.shape"
   ]
  },
  {
   "cell_type": "code",
   "execution_count": 108,
   "id": "aa339bc1",
   "metadata": {},
   "outputs": [
    {
     "data": {
      "text/plain": [
       "(15, 4)"
      ]
     },
     "execution_count": 108,
     "metadata": {},
     "output_type": "execute_result"
    }
   ],
   "source": [
    "X_test.shape"
   ]
  },
  {
   "cell_type": "code",
   "execution_count": 109,
   "id": "5070c8b4",
   "metadata": {},
   "outputs": [],
   "source": [
    "from sklearn.linear_model import LinearRegression"
   ]
  },
  {
   "cell_type": "code",
   "execution_count": 110,
   "id": "cc7f1a82",
   "metadata": {},
   "outputs": [],
   "source": [
    "lr=LinearRegression()"
   ]
  },
  {
   "cell_type": "code",
   "execution_count": 111,
   "id": "2e711e18",
   "metadata": {},
   "outputs": [
    {
     "data": {
      "text/plain": [
       "LinearRegression()"
      ]
     },
     "execution_count": 111,
     "metadata": {},
     "output_type": "execute_result"
    }
   ],
   "source": [
    "lr.fit(X_train,y_train)"
   ]
  },
  {
   "cell_type": "code",
   "execution_count": 112,
   "id": "1fed0d5e",
   "metadata": {},
   "outputs": [
    {
     "data": {
      "text/plain": [
       "array([[-4.32002165e+01, -6.72812374e-02, -5.85078038e-03,\n",
       "         1.33111570e+03]])"
      ]
     },
     "execution_count": 112,
     "metadata": {},
     "output_type": "execute_result"
    }
   ],
   "source": [
    "lr.coef_ "
   ]
  },
  {
   "cell_type": "code",
   "execution_count": 113,
   "id": "1d5d677c",
   "metadata": {},
   "outputs": [
    {
     "data": {
      "text/plain": [
       "array([470.36371827])"
      ]
     },
     "execution_count": 113,
     "metadata": {},
     "output_type": "execute_result"
    }
   ],
   "source": [
    "lr.intercept_ "
   ]
  },
  {
   "cell_type": "code",
   "execution_count": 114,
   "id": "22660ebc",
   "metadata": {},
   "outputs": [],
   "source": [
    "y_pred= lr.predict(X_test)"
   ]
  },
  {
   "cell_type": "code",
   "execution_count": 115,
   "id": "ad123649",
   "metadata": {},
   "outputs": [
    {
     "data": {
      "text/plain": [
       "array([[468.31594627],\n",
       "       [550.39707846],\n",
       "       [590.63932111],\n",
       "       [572.1767937 ],\n",
       "       [649.89394062],\n",
       "       [648.44378918],\n",
       "       [515.19865018],\n",
       "       [674.76463673],\n",
       "       [503.47637809],\n",
       "       [500.07361023],\n",
       "       [417.31504469],\n",
       "       [587.99614777],\n",
       "       [624.50820356],\n",
       "       [605.30052585],\n",
       "       [563.47052146]])"
      ]
     },
     "execution_count": 115,
     "metadata": {},
     "output_type": "execute_result"
    }
   ],
   "source": [
    "y_pred"
   ]
  },
  {
   "cell_type": "markdown",
   "id": "d57bd54b",
   "metadata": {},
   "source": [
    "# Prediction results\n",
    "# Print model performance"
   ]
  },
  {
   "cell_type": "code",
   "execution_count": 116,
   "id": "a5d01fa5",
   "metadata": {},
   "outputs": [],
   "source": [
    "from sklearn.metrics import accuracy_score,mean_squared_error,r2_score,mean_absolute_error"
   ]
  },
  {
   "cell_type": "code",
   "execution_count": 117,
   "id": "2a3b1b52",
   "metadata": {},
   "outputs": [
    {
     "name": "stdout",
     "output_type": "stream",
     "text": [
      "Coefficients: [[-4.32002165e+01 -6.72812374e-02 -5.85078038e-03  1.33111570e+03]]\n",
      "Intercept: [470.36371827]\n",
      "Mean squared error (MSE): 3673.21\n",
      "Coefficient of determination (R^2): 0.29\n"
     ]
    }
   ],
   "source": [
    "print('Coefficients:', lr.coef_)\n",
    "print('Intercept:', lr.intercept_)\n",
    "print('Mean squared error (MSE): %.2f'\n",
    "      % mean_squared_error(y_test, y_pred))\n",
    "print('Coefficient of determination (R^2): %.2f'\n",
    "      % r2_score(y_test, y_pred))"
   ]
  },
  {
   "cell_type": "code",
   "execution_count": 118,
   "id": "2c068ea7",
   "metadata": {},
   "outputs": [],
   "source": [
    "\n",
    "# import the regressor\n",
    "from sklearn.tree import DecisionTreeRegressor \n",
    "  \n",
    "# create a regressor object\n",
    "regressor = DecisionTreeRegressor(random_state = 0) "
   ]
  },
  {
   "cell_type": "code",
   "execution_count": 119,
   "id": "c7dea7bd",
   "metadata": {},
   "outputs": [],
   "source": [
    "Dr=regressor.fit(X_train,y_train)"
   ]
  },
  {
   "cell_type": "code",
   "execution_count": 120,
   "id": "b5d3ddb3",
   "metadata": {},
   "outputs": [],
   "source": [
    "y_pred_dr=Dr.predict(X_test)"
   ]
  },
  {
   "cell_type": "code",
   "execution_count": 121,
   "id": "64820324",
   "metadata": {},
   "outputs": [
    {
     "name": "stdout",
     "output_type": "stream",
     "text": [
      "Coefficients: [[-4.32002165e+01 -6.72812374e-02 -5.85078038e-03  1.33111570e+03]]\n",
      "Intercept: [470.36371827]\n",
      "Mean squared error (MSE): 3673.21\n",
      "Coefficient of determination (R^2): 0.29\n"
     ]
    }
   ],
   "source": [
    "print('Coefficients:', lr.coef_)\n",
    "print('Intercept:', lr.intercept_)\n",
    "print('Mean squared error (MSE): %.2f'\n",
    "      % mean_squared_error(y_test, y_pred))\n",
    "print('Coefficient of determination (R^2): %.2f'\n",
    "      % r2_score(y_test, y_pred))"
   ]
  },
  {
   "cell_type": "code",
   "execution_count": 122,
   "id": "9e5a5a85",
   "metadata": {},
   "outputs": [],
   "source": [
    "from sklearn.ensemble import RandomForestRegressor"
   ]
  },
  {
   "cell_type": "code",
   "execution_count": 123,
   "id": "04ea8491",
   "metadata": {},
   "outputs": [],
   "source": [
    "rf = RandomForestRegressor(n_estimators = 100 , random_state = 42)"
   ]
  },
  {
   "cell_type": "code",
   "execution_count": 124,
   "id": "ad1d4413",
   "metadata": {},
   "outputs": [
    {
     "name": "stderr",
     "output_type": "stream",
     "text": [
      "<ipython-input-124-d6d9475b85dc>:1: DataConversionWarning: A column-vector y was passed when a 1d array was expected. Please change the shape of y to (n_samples,), for example using ravel().\n",
      "  rf.fit(X_train,y_train)\n"
     ]
    },
    {
     "data": {
      "text/plain": [
       "RandomForestRegressor(random_state=42)"
      ]
     },
     "execution_count": 124,
     "metadata": {},
     "output_type": "execute_result"
    }
   ],
   "source": [
    "rf.fit(X_train,y_train)"
   ]
  },
  {
   "cell_type": "code",
   "execution_count": 125,
   "id": "be474bda",
   "metadata": {},
   "outputs": [],
   "source": [
    "y_pred_rfr=rf.predict(X_test)"
   ]
  },
  {
   "cell_type": "code",
   "execution_count": 126,
   "id": "ad3ed224",
   "metadata": {},
   "outputs": [
    {
     "name": "stdout",
     "output_type": "stream",
     "text": [
      "Mean Absolute Error: 49.2037565566312\n",
      "Mean Squared Error: 3673.207270692265\n",
      "Root Mean Squared Error: 60.60699027911108\n"
     ]
    }
   ],
   "source": [
    "print('Mean Absolute Error:', mean_absolute_error(y_test, y_pred))\n",
    "print('Mean Squared Error:', mean_squared_error(y_test, y_pred))\n",
    "print('Root Mean Squared Error:', np.sqrt(mean_squared_error(y_test, y_pred)))"
   ]
  },
  {
   "cell_type": "code",
   "execution_count": 127,
   "id": "100c82f4",
   "metadata": {},
   "outputs": [
    {
     "name": "stdout",
     "output_type": "stream",
     "text": [
      "Mean Absolute Error: 54.392666666666656\n",
      "Mean Squared Error: 4136.865859999998\n",
      "Root Mean Squared Error: 64.31847215225186\n"
     ]
    }
   ],
   "source": [
    "print('Mean Absolute Error:', mean_absolute_error(y_test, y_pred_rfr))\n",
    "print('Mean Squared Error:', mean_squared_error(y_test, y_pred_rfr))\n",
    "print('Root Mean Squared Error:', np.sqrt(mean_squared_error(y_test, y_pred_rfr)))"
   ]
  },
  {
   "cell_type": "code",
   "execution_count": 130,
   "id": "a1507701",
   "metadata": {},
   "outputs": [
    {
     "name": "stdout",
     "output_type": "stream",
     "text": [
      "Mean Absolute Error: 86.53333333333333\n",
      "Mean Squared Error: 11248.0\n",
      "Root Mean Squared Error: 106.05658866850281\n"
     ]
    }
   ],
   "source": [
    "print('Mean Absolute Error:', mean_absolute_error(y_test, y_pred_dr))\n",
    "print('Mean Squared Error:', mean_squared_error(y_test, y_pred_dr))\n",
    "print('Root Mean Squared Error:', np.sqrt(mean_squared_error(y_test, y_pred_dr)))"
   ]
  },
  {
   "cell_type": "code",
   "execution_count": null,
   "id": "67df90e3",
   "metadata": {},
   "outputs": [],
   "source": []
  }
 ],
 "metadata": {
  "kernelspec": {
   "display_name": "Python 3",
   "language": "python",
   "name": "python3"
  },
  "language_info": {
   "codemirror_mode": {
    "name": "ipython",
    "version": 3
   },
   "file_extension": ".py",
   "mimetype": "text/x-python",
   "name": "python",
   "nbconvert_exporter": "python",
   "pygments_lexer": "ipython3",
   "version": "3.8.8"
  }
 },
 "nbformat": 4,
 "nbformat_minor": 5
}
